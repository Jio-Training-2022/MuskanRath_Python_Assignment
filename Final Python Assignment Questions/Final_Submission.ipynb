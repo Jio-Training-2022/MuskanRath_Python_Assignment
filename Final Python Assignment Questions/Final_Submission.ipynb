{
 "cells": [
  {
   "cell_type": "markdown",
   "id": "d0485c74",
   "metadata": {},
   "source": [
    "Question 1: Days to go for a particular date in future."
   ]
  },
  {
   "cell_type": "code",
   "execution_count": null,
   "id": "1673dfbd",
   "metadata": {},
   "outputs": [],
   "source": [
    "from datetime import date, datetime\n",
    "d1 =date.today()\n",
    "today_year = int(d1.strftime(\"%Y\"))\n",
    "print(d1)\n",
    "future_year = int(input('Enter a futuristic year: '))\n",
    "if future_year > today_year:\n",
    "    future_month = int(input('Enter the month of the future year: '))\n",
    "    future_date = int(input('Enter the date of the future year:'))\n",
    "    d2 = date(future_year,future_month,future_date)\n",
    "    print(d2)\n",
    "    print(type(d1))\n",
    "    print(type(d2))\n",
    "    difference_delta = d2 - d1\n",
    "    print(difference_delta.days)\n",
    "else:\n",
    "    print(\"Invalid input, please enter a futuristic year\")"
   ]
  },
  {
   "cell_type": "markdown",
   "id": "7f5fe352",
   "metadata": {},
   "source": [
    "Question 2: Hours to go for a particular time."
   ]
  },
  {
   "cell_type": "code",
   "execution_count": null,
   "id": "fb0f6288",
   "metadata": {},
   "outputs": [],
   "source": [
    "# question 2 not done completely\n",
    "import time\n",
    "from datetime import time\n",
    "my_time_input_hours = int(input('Enter number of hours in the format(hh): '))\n",
    "if my_time_input_hours in range(0,24):\n",
    "    my_time_input_minutes=int(input('Enter number of minutes(mm): '))\n",
    "    if my_time_input_minutes in range(60):\n",
    "        my_time_input_seconds = int(input('Enter number of seconds(ss): '))\n",
    "        my_time_input = str(my_time_input_hours,my_time_input_minutes,my_time_input_seconds)\n",
    "        if my_time_input_seconds in range(60):\n",
    "            time_input = datetime.strptime(my_time_input, \"%H:%M:%S\")\n",
    "            print(time_input.time())\n",
    "            print(datetime.time - time_input.time())\n",
    "        else:\n",
    "            print(\"Invalid format of input or value beyond range. Please enter minutes in range 0 to 60(exclusive)\")\n",
    "    else:\n",
    "        print(\"Invalid format of input or value beyond range. Please enter seconds in range 0 to 60(exclusive)\")\n",
    "\n",
    "else:\n",
    "    print(\"Invalid format of input or value beyond range. Please enter hours in range 0 to 24(exclusive)\")\n",
    "\n"
   ]
  },
  {
   "cell_type": "markdown",
   "id": "482066ce",
   "metadata": {},
   "source": [
    "Question 3: Marks of a student are given in a file, calculate the average marks."
   ]
  },
  {
   "cell_type": "markdown",
   "id": "2e1a43e8",
   "metadata": {},
   "source": [
    "In this question, we have a file StudentMarks.txt which is located in the same directory as that of the notebook and it contains data:\n",
    "\n",
    "Muskan,10,15,20,30,40  \n",
    "Minal,23,16,19,22  \n",
    "Twinkle,8,22,17,14,32,17,24,21,2,9,11,17   \n"
   ]
  },
  {
   "cell_type": "code",
   "execution_count": null,
   "id": "8da9a831",
   "metadata": {},
   "outputs": [],
   "source": [
    "filename = 'StudentMarks.txt'\n",
    "f =  open(filename, 'r')\n",
    "\n",
    "# since the scores file is so small, it's fine to do this:\n",
    "marks = [mark.rstrip() for mark in f ] # get all records in one shot\n",
    "\n",
    "\n",
    "for mark in marks:\n",
    "    ll = mark.split(',')        # each is a student's record (string), so it needs to break into parts\n",
    "    #print(ll)\n",
    "    name, *scores = ll       # unpacking\n",
    "\n",
    "    print(name, scores)      # to confirm, uncomment later.\n",
    "\n",
    "    total = sum(int(x) for x in scores)\n",
    "    average = total / len(scores)\n",
    "    print(\"The average marks of\", name,\" is \",average)\n",
    "    \n",
    "f.close()"
   ]
  },
  {
   "cell_type": "markdown",
   "id": "f9ee14b5",
   "metadata": {},
   "source": [
    "Question 4: Names are given in a file, check whether a particular name is present."
   ]
  },
  {
   "cell_type": "markdown",
   "id": "937353b5",
   "metadata": {},
   "source": [
    "The file name, 'Names.txt', is present in the same directory as that of the notebook. The list of names present in the file and all of these names are present in separate lines:\n",
    "\n",
    "Adams     Baker\n",
    "Clark\n",
    "Davis\n",
    "Evans\n",
    "Frank\n",
    "Ghosh\n",
    "Hills\n",
    "Irwin\n",
    "Jones\n",
    "Klein\n",
    "Lopez\n",
    "Mason\n",
    "Nalty\n",
    "Ochoa\n",
    "Patel\n",
    "Quinn\n",
    "Reily\n",
    "Smith\n",
    "Trott\n",
    "Usman\n",
    "Valdo\n",
    "White\n",
    "Xiang\n",
    "Yakub\n",
    "Zafar"
   ]
  },
  {
   "cell_type": "code",
   "execution_count": null,
   "id": "563490bf",
   "metadata": {},
   "outputs": [],
   "source": [
    "filename = 'Names.txt'\n",
    "fd = open(filename,'r')\n",
    "\n",
    "\n",
    "check_name = input('Enter the name to check if that name is present or not')\n",
    " \n",
    "with open('Names.txt') as Names:\n",
    "    if check_name.lower() or check_name.upper() in Names.read():\n",
    "        print(\"The name \",check_name,\" is present in the file\")\n",
    "    else:\n",
    "        print(\"Name not present in the file\")\n",
    "\n",
    "\n",
    "fd.close()"
   ]
  },
  {
   "cell_type": "markdown",
   "id": "91d58d92",
   "metadata": {},
   "source": [
    "Question 5: A dict contains events and corresponding dates, given a date, find out what events have occurred and what are still pending."
   ]
  },
  {
   "cell_type": "code",
   "execution_count": null,
   "id": "a5793406",
   "metadata": {},
   "outputs": [],
   "source": [
    "# Question 5: (not done completely)\n",
    "# dictionary with events and dates\n",
    "import datetime\n",
    "from datetime import date,datetime \n",
    "event_date = {'Fashion Show': '2023-09-01',\n",
    "            'Kids dance show': '2022-11-19',\n",
    "            'Music show': '1997-01-04',\n",
    "            'Art exhibition': '1997-09-13'}\n",
    "\n",
    "# initialising an empty list meant to store the values(in this case, \n",
    "# dates) extracted from the dictionary\n",
    "dates = []\n",
    "\n",
    "# for loop to extract values from the dictionary and append it to an empty list\n",
    "for key in event_date.keys() :\n",
    "    dates.append(event_date[key])\n",
    "    \n",
    "# printing the values in the dictionary\n",
    "print(\"The list of values is : \" +  str(dates))\n",
    "DATE = [datetime.strptime(x,'%Y-%m-%d').date() for x in dates]\n",
    "print(DATE)\n",
    "print(type(DATE))\n",
    "\n",
    "# User input for date with respect to which we will compare the date \n",
    "# extracted from list of strings, dates and then converted to datetime \n",
    "# and stored in DATE.\n",
    "#year = int(input('Enter a year: '))\n",
    "#month = int(input('Enter a month: '))\n",
    "#day = int(input('Enter a day: '))\n",
    "\n",
    "dt1 = datetime.datetime.now()\n",
    "for i in DATE:\n",
    "    delta = dt1 - i\n",
    "    if delta >= 0:\n",
    "        print(\"The event has not occurred\")\n",
    "        print(delta)\n",
    "    else:\n",
    "        print(\"The event has already occurred\")\n",
    "    \n",
    "#dt1 = datetime.now()\n",
    "#delta = dt-dt1\n",
    "print(delta)"
   ]
  },
  {
   "cell_type": "markdown",
   "id": "e77d6a70",
   "metadata": {},
   "source": [
    "Question 6: Given a file with numbers , calculate mean, median and mode.\n"
   ]
  },
  {
   "cell_type": "markdown",
   "id": "8e1deb83",
   "metadata": {},
   "source": [
    "The file name, 'ListOfNumbers.txt', is present in the same directory as that of the notebook. The list of numbers present in the file are:\n",
    "10,15,20,30,40,23,16,19,22,8,22,17,14,32,17,24,21,2,9,11,17  "
   ]
  },
  {
   "cell_type": "code",
   "execution_count": null,
   "id": "2236d590",
   "metadata": {},
   "outputs": [],
   "source": [
    "# Approach to problem: converting the numbers separated by comma into a list\n",
    "# of integers and then using this list of integers to compute mean, median \n",
    "# and mode\n",
    "with open(\"ListOfNumbers.txt\") as f:\n",
    "    lst = [int(x) for x in f.read().split(',')]\n",
    "    print(lst)\n",
    "    \n",
    "    #computing mean\n",
    "    mean = sum(lst) / len(lst)\n",
    "    print(\"Mean: \",mean)\n",
    "    \n",
    "    #computing median\n",
    "    lst.sort()\n",
    "    n = len(lst)\n",
    "    if n % 2 == 0:\n",
    "        med1 = lst[n//2]\n",
    "        med2 = lst[n//2 - 1]\n",
    "        med = (med1 + med2)/2\n",
    "    else:\n",
    "        med = lst[n//2]\n",
    "    print(\"Median: \", str(med))\n",
    "    \n",
    "    # computing mode\n",
    "    print(\"Mode: %s \" % (max(set(lst), key = lst.count)))"
   ]
  },
  {
   "cell_type": "markdown",
   "id": "337843cc",
   "metadata": {},
   "source": [
    "Question 7: Given a file with strings, calculate the permutations."
   ]
  },
  {
   "cell_type": "markdown",
   "id": "bf1ca6fd",
   "metadata": {},
   "source": []
  },
  {
   "cell_type": "markdown",
   "id": "d30bda48",
   "metadata": {},
   "source": [
    "Question 8: Take user input and write it to a file."
   ]
  },
  {
   "cell_type": "code",
   "execution_count": null,
   "id": "9885ddd8",
   "metadata": {},
   "outputs": [],
   "source": [
    "# It will ask the user to provide a filename and will create the file in \n",
    "# the same directory as that of the notebook. \n",
    "# Then it will open the file and ask the user to write something to the\n",
    "# file. The variable input_data is for printing the inputs provided by the \n",
    "# user. After the resource has been utilised, it is then released by f.close()\n",
    "# This code only covers one aspect: Taking current user input and storing it in a file\n",
    "# It however does not take into consideration the presence of existing data in the file\n",
    "# The new data given by the user as input will replace the existing one\n",
    "filename = input(\"filename: \")\n",
    "with open(filename, \"w+\") as f:\n",
    "    input_data = f.write(input())\n",
    "    print(input_data)\n",
    "    f.close()"
   ]
  },
  {
   "cell_type": "markdown",
   "id": "25f3eb75",
   "metadata": {},
   "source": [
    "Question 9: Fetch the data from a url and save it to a file."
   ]
  },
  {
   "cell_type": "code",
   "execution_count": null,
   "id": "09f349fa",
   "metadata": {},
   "outputs": [],
   "source": []
  },
  {
   "cell_type": "markdown",
   "id": "4b65818b",
   "metadata": {},
   "source": [
    "Question 10: Solve the fizz buzz problem"
   ]
  },
  {
   "cell_type": "code",
   "execution_count": null,
   "id": "2ba23ee8",
   "metadata": {},
   "outputs": [],
   "source": [
    "for i in range(1,101):\n",
    "    if i % 5 == 0  and i % 3 ==0:\n",
    "        print('fizzbuzz')\n",
    "    elif i % 3 == 0:\n",
    "        print('fizz')\n",
    "    elif i % 5 == 0:\n",
    "        print('buzz')\n",
    "    else:\n",
    "        print(i)"
   ]
  }
 ],
 "metadata": {
  "kernelspec": {
   "display_name": "Python 3",
   "language": "python",
   "name": "python3"
  },
  "language_info": {
   "codemirror_mode": {
    "name": "ipython",
    "version": 3
   },
   "file_extension": ".py",
   "mimetype": "text/x-python",
   "name": "python",
   "nbconvert_exporter": "python",
   "pygments_lexer": "ipython3",
   "version": "3.8.8"
  }
 },
 "nbformat": 4,
 "nbformat_minor": 5
}
